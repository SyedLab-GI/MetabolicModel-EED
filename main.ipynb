{
 "cells": [
  {
   "cell_type": "markdown",
   "metadata": {},
   "source": [
    "### Imports"
   ]
  },
  {
   "cell_type": "code",
   "execution_count": 1,
   "metadata": {},
   "outputs": [
    {
     "name": "stdout",
     "output_type": "stream",
     "text": [
      "Imports Complete\n"
     ]
    }
   ],
   "source": [
    "import os\n",
    "import random\n",
    "import numpy as np\n",
    "import pandas as pd\n",
    "from tqdm import tqdm\n",
    "\n",
    "import cobra\n",
    "import riptide\n",
    "\n",
    "from sklearn.ensemble import RandomForestClassifier\n",
    "from sklearn.metrics import accuracy_score, confusion_matrix, f1_score, precision_score, recall_score\n",
    "\n",
    "print('Imports Complete')"
   ]
  },
  {
   "cell_type": "markdown",
   "metadata": {},
   "source": [
    "### Read transcriptomics file"
   ]
  },
  {
   "cell_type": "code",
   "execution_count": 2,
   "metadata": {},
   "outputs": [
    {
     "name": "stdout",
     "output_type": "stream",
     "text": [
      "(138745, 14)\n"
     ]
    },
    {
     "data": {
      "text/html": [
       "<div>\n",
       "<style scoped>\n",
       "    .dataframe tbody tr th:only-of-type {\n",
       "        vertical-align: middle;\n",
       "    }\n",
       "\n",
       "    .dataframe tbody tr th {\n",
       "        vertical-align: top;\n",
       "    }\n",
       "\n",
       "    .dataframe thead th {\n",
       "        text-align: right;\n",
       "    }\n",
       "</style>\n",
       "<table border=\"1\" class=\"dataframe\">\n",
       "  <thead>\n",
       "    <tr style=\"text-align: right;\">\n",
       "      <th></th>\n",
       "      <th>ensembl_id</th>\n",
       "      <th>ID_REF</th>\n",
       "      <th>EED-Control-1</th>\n",
       "      <th>EED-Control-2</th>\n",
       "      <th>EED-Control-3</th>\n",
       "      <th>EED-ND-1</th>\n",
       "      <th>EED-ND-2</th>\n",
       "      <th>EED-ND-3</th>\n",
       "      <th>Healthy-Control-1</th>\n",
       "      <th>Healthy-Control-2</th>\n",
       "      <th>Healthy-Control-3</th>\n",
       "      <th>Healthy-ND-1</th>\n",
       "      <th>Healthy-ND-2</th>\n",
       "      <th>Healthy-ND-3</th>\n",
       "    </tr>\n",
       "  </thead>\n",
       "  <tbody>\n",
       "    <tr>\n",
       "      <th>0</th>\n",
       "      <td>NaN</td>\n",
       "      <td>AFFX-BkGr-GC03_st</td>\n",
       "      <td>2.509910</td>\n",
       "      <td>2.111326</td>\n",
       "      <td>1.777033</td>\n",
       "      <td>2.309331</td>\n",
       "      <td>1.728352</td>\n",
       "      <td>1.860814</td>\n",
       "      <td>1.867672</td>\n",
       "      <td>1.919417</td>\n",
       "      <td>1.841486</td>\n",
       "      <td>2.134630</td>\n",
       "      <td>1.974421</td>\n",
       "      <td>2.187432</td>\n",
       "    </tr>\n",
       "    <tr>\n",
       "      <th>1</th>\n",
       "      <td>NaN</td>\n",
       "      <td>AFFX-BkGr-GC04_st</td>\n",
       "      <td>2.295783</td>\n",
       "      <td>1.900880</td>\n",
       "      <td>1.797043</td>\n",
       "      <td>1.938862</td>\n",
       "      <td>1.621349</td>\n",
       "      <td>1.958245</td>\n",
       "      <td>1.757484</td>\n",
       "      <td>1.827596</td>\n",
       "      <td>1.828458</td>\n",
       "      <td>1.971875</td>\n",
       "      <td>1.976003</td>\n",
       "      <td>2.063035</td>\n",
       "    </tr>\n",
       "    <tr>\n",
       "      <th>2</th>\n",
       "      <td>NaN</td>\n",
       "      <td>AFFX-BkGr-GC05_st</td>\n",
       "      <td>2.257641</td>\n",
       "      <td>1.879776</td>\n",
       "      <td>1.755351</td>\n",
       "      <td>1.967621</td>\n",
       "      <td>1.672276</td>\n",
       "      <td>1.901808</td>\n",
       "      <td>1.839612</td>\n",
       "      <td>1.860259</td>\n",
       "      <td>1.871003</td>\n",
       "      <td>1.968703</td>\n",
       "      <td>2.036299</td>\n",
       "      <td>2.033751</td>\n",
       "    </tr>\n",
       "    <tr>\n",
       "      <th>3</th>\n",
       "      <td>NaN</td>\n",
       "      <td>AFFX-BkGr-GC06_st</td>\n",
       "      <td>2.323094</td>\n",
       "      <td>1.934329</td>\n",
       "      <td>1.815905</td>\n",
       "      <td>2.030437</td>\n",
       "      <td>1.698393</td>\n",
       "      <td>1.954793</td>\n",
       "      <td>1.822267</td>\n",
       "      <td>1.857776</td>\n",
       "      <td>1.872710</td>\n",
       "      <td>2.000145</td>\n",
       "      <td>2.089354</td>\n",
       "      <td>2.102391</td>\n",
       "    </tr>\n",
       "    <tr>\n",
       "      <th>4</th>\n",
       "      <td>NaN</td>\n",
       "      <td>AFFX-BkGr-GC07_st</td>\n",
       "      <td>2.361259</td>\n",
       "      <td>1.945320</td>\n",
       "      <td>1.874545</td>\n",
       "      <td>1.995780</td>\n",
       "      <td>1.718467</td>\n",
       "      <td>1.982185</td>\n",
       "      <td>1.852268</td>\n",
       "      <td>1.898476</td>\n",
       "      <td>1.911582</td>\n",
       "      <td>2.041037</td>\n",
       "      <td>2.106554</td>\n",
       "      <td>2.105908</td>\n",
       "    </tr>\n",
       "  </tbody>\n",
       "</table>\n",
       "</div>"
      ],
      "text/plain": [
       "  ensembl_id             ID_REF  EED-Control-1  EED-Control-2  EED-Control-3  \\\n",
       "0        NaN  AFFX-BkGr-GC03_st       2.509910       2.111326       1.777033   \n",
       "1        NaN  AFFX-BkGr-GC04_st       2.295783       1.900880       1.797043   \n",
       "2        NaN  AFFX-BkGr-GC05_st       2.257641       1.879776       1.755351   \n",
       "3        NaN  AFFX-BkGr-GC06_st       2.323094       1.934329       1.815905   \n",
       "4        NaN  AFFX-BkGr-GC07_st       2.361259       1.945320       1.874545   \n",
       "\n",
       "   EED-ND-1  EED-ND-2  EED-ND-3  Healthy-Control-1  Healthy-Control-2  \\\n",
       "0  2.309331  1.728352  1.860814           1.867672           1.919417   \n",
       "1  1.938862  1.621349  1.958245           1.757484           1.827596   \n",
       "2  1.967621  1.672276  1.901808           1.839612           1.860259   \n",
       "3  2.030437  1.698393  1.954793           1.822267           1.857776   \n",
       "4  1.995780  1.718467  1.982185           1.852268           1.898476   \n",
       "\n",
       "   Healthy-Control-3  Healthy-ND-1  Healthy-ND-2  Healthy-ND-3  \n",
       "0           1.841486      2.134630      1.974421      2.187432  \n",
       "1           1.828458      1.971875      1.976003      2.063035  \n",
       "2           1.871003      1.968703      2.036299      2.033751  \n",
       "3           1.872710      2.000145      2.089354      2.102391  \n",
       "4           1.911582      2.041037      2.106554      2.105908  "
      ]
     },
     "execution_count": 2,
     "metadata": {},
     "output_type": "execute_result"
    }
   ],
   "source": [
    "data = pd.read_csv ('data/matrix.csv')\n",
    "\n",
    "print(data.shape)\n",
    "data.head()"
   ]
  },
  {
   "cell_type": "code",
   "execution_count": 3,
   "metadata": {},
   "outputs": [],
   "source": [
    "# Create dataframes of the patients\n",
    "dfs = {\n",
    "    'EED': pd.DataFrame(),\n",
    "    'Healthy': pd.DataFrame()\n",
    "}\n",
    "\n",
    "id_map = {\n",
    "    'EED': ['EED-ND-1','EED-ND-2','EED-ND-3'],\n",
    "    'Healthy': ['Healthy-Control-1','Healthy-Control-2','Healthy-Control-3']\n",
    "}\n",
    "\n",
    "data = data[data['ensembl_id'].notna()]\n",
    "\n",
    "dfs['EED'] = data[['ensembl_id',\n",
    "                   'EED-ND-1',\n",
    "                   'EED-ND-2',\n",
    "                   'EED-ND-3']]\n",
    "\n",
    "dfs['Healthy'] = data[['ensembl_id',\n",
    "                       'Healthy-Control-1',\n",
    "                       'Healthy-Control-2',\n",
    "                       'Healthy-Control-3']]"
   ]
  },
  {
   "cell_type": "code",
   "execution_count": 4,
   "metadata": {},
   "outputs": [],
   "source": [
    "# Gene Map with all the genes present in Recon3D\n",
    "gene_name_num = pd.read_csv('data/gene_name_number.tsv', sep='\\t')\n",
    "gene_name_num = gene_name_num[['gene_number', 'symbol', 'ensembl_gene']]\n",
    "gene_name_num\n",
    "\n",
    "for keys in dfs.keys():\n",
    "    \n",
    "    # Merge gene number annotations to dataframe\n",
    "    dfs[keys] = pd.merge(gene_name_num, dfs[keys], left_on='ensembl_gene', right_on='ensembl_id')"
   ]
  },
  {
   "cell_type": "code",
   "execution_count": 5,
   "metadata": {},
   "outputs": [
    {
     "name": "stdout",
     "output_type": "stream",
     "text": [
      "(3585, 7)\n",
      "(3585, 7)\n"
     ]
    }
   ],
   "source": [
    "print(dfs['EED'].shape)\n",
    "print(dfs['Healthy'].shape)"
   ]
  },
  {
   "cell_type": "markdown",
   "metadata": {},
   "source": [
    "### Run Riptide for all patients"
   ]
  },
  {
   "cell_type": "code",
   "execution_count": 6,
   "metadata": {},
   "outputs": [
    {
     "name": "stderr",
     "output_type": "stream",
     "text": [
      "No defined compartments in model Recon3D. Compartments will be deduced heuristically using regular expressions.\n",
      "Using regular expression found the following compartments:c, e, g, i, l, m, n, r, x\n"
     ]
    }
   ],
   "source": [
    "# Load Model\n",
    "model = cobra.io.load_matlab_model('data/Recon3D_301.mat')\n",
    "cobra.util.array.create_stoichiometric_matrix(model).shape\n",
    "\n",
    "def run_riptide(fname, pat_name):\n",
    "    \n",
    "    transcript_abundances = riptide.read_transcription_file(fname,  norm=False)\n",
    "    riptide_object = riptide.contextualize(model=model, transcriptome=transcript_abundances, fraction=1.)\n",
    "\n",
    "    riptide_fva = riptide_object.flux_samples\n",
    "    riptide_fva['sample_number'] = pat_name\n",
    "    \n",
    "    return riptide_fva"
   ]
  },
  {
   "cell_type": "code",
   "execution_count": 7,
   "metadata": {},
   "outputs": [
    {
     "name": "stdout",
     "output_type": "stream",
     "text": [
      "Running for - EED\n",
      "\n",
      "Initializing model and integrating transcriptomic data...\n",
      "Pruning zero flux subnetworks...\n",
      "Analyzing context-specific flux distributions...\n",
      "\n",
      "Reactions pruned to 818 from 13543 (93.96% change)\n",
      "Metabolites pruned to 767 from 8399 (90.87% change)\n",
      "Flux through the objective DECREASED to ~995.1377 from ~1000.0 (0.49% change)\n",
      "Context-specific metabolism correlates with transcriptome (r=-0.18, p<0.001 *)\n",
      "\n",
      "RIPTiDe completed in, 3 minutes and 6 seconds \n",
      "\n",
      "\n",
      "Initializing model and integrating transcriptomic data...\n",
      "Pruning zero flux subnetworks...\n",
      "Analyzing context-specific flux distributions...\n",
      "\n",
      "Reactions pruned to 1173 from 13543 (91.34% change)\n",
      "Metabolites pruned to 1185 from 8399 (85.89% change)\n",
      "Flux through the objective DECREASED to ~992.8036 from ~1000.0 (0.72% change)\n",
      "Context-specific metabolism correlates with transcriptome (r=-0.081, p=0.006 *)\n",
      "\n",
      "RIPTiDe completed in, 3 minutes and 21 seconds \n",
      "\n",
      "\n",
      "Initializing model and integrating transcriptomic data...\n",
      "Pruning zero flux subnetworks...\n",
      "Analyzing context-specific flux distributions...\n",
      "\n",
      "Reactions pruned to 863 from 13543 (93.63% change)\n",
      "Metabolites pruned to 826 from 8399 (90.17% change)\n",
      "Flux through the objective DECREASED to ~991.9474 from ~1000.0 (0.81% change)\n",
      "Context-specific metabolism correlates with transcriptome (r=-0.137, p<0.001 *)\n",
      "\n",
      "RIPTiDe completed in, 3 minutes and 12 seconds \n",
      "\n",
      "Running for - Healthy\n",
      "\n",
      "Initializing model and integrating transcriptomic data...\n",
      "Pruning zero flux subnetworks...\n",
      "Analyzing context-specific flux distributions...\n",
      "\n",
      "Reactions pruned to 821 from 13543 (93.94% change)\n",
      "Metabolites pruned to 766 from 8399 (90.88% change)\n",
      "Flux through the objective DECREASED to ~990.4968 from ~1000.0 (0.95% change)\n",
      "Context-specific metabolism correlates with transcriptome (r=-0.166, p<0.001 *)\n",
      "\n",
      "RIPTiDe completed in, 2 minutes and 58 seconds \n",
      "\n",
      "\n",
      "Initializing model and integrating transcriptomic data...\n",
      "Pruning zero flux subnetworks...\n",
      "Analyzing context-specific flux distributions...\n",
      "\n",
      "Reactions pruned to 850 from 13543 (93.72% change)\n",
      "Metabolites pruned to 794 from 8399 (90.55% change)\n",
      "Flux through the objective DECREASED to ~990.3292 from ~1000.0 (0.97% change)\n",
      "Context-specific metabolism correlates with transcriptome (r=-0.182, p<0.001 *)\n",
      "\n",
      "RIPTiDe completed in, 3 minutes and 0 second \n",
      "\n",
      "\n",
      "Initializing model and integrating transcriptomic data...\n",
      "Pruning zero flux subnetworks...\n",
      "Analyzing context-specific flux distributions...\n",
      "\n",
      "Reactions pruned to 997 from 13543 (92.64% change)\n",
      "Metabolites pruned to 957 from 8399 (88.61% change)\n",
      "Flux through the objective DECREASED to ~994.1989 from ~1000.0 (0.58% change)\n",
      "Context-specific metabolism correlates with transcriptome (r=-0.302, p<0.001 *)\n",
      "\n",
      "RIPTiDe completed in, 3 minutes and 7 seconds \n",
      "\n"
     ]
    }
   ],
   "source": [
    "# Run for each patient\n",
    "for keys in dfs.keys():\n",
    "    print('Running for - {}'.format(keys))\n",
    "    for pat_id in id_map[keys]:\n",
    "        dfs[keys][['gene_number', pat_id]].to_csv('sample.tsv', header=False, index=False, sep='\\t')\n",
    "        pat_output = run_riptide('sample.tsv', pat_id)\n",
    "        pat_output.to_csv('output/{}.csv'.format(pat_id), index=False)\n",
    "        \n",
    "# Combine flux samples  \n",
    "for keys in dfs.keys():\n",
    "    list_of_pat_flux = []\n",
    "    for pat_id in id_map[keys]:\n",
    "        list_of_pat_flux.append(pd.read_csv('output/{}.csv'.format(pat_id)))\n",
    "    pd.concat(list_of_pat_flux, join='inner', ignore_index=0).to_csv(\\\n",
    "    'output/riptide_{}_flux_sample.csv'.format(keys), index=False) "
   ]
  },
  {
   "cell_type": "markdown",
   "metadata": {},
   "source": [
    "### Run ML model on aggregated flux files"
   ]
  },
  {
   "cell_type": "code",
   "execution_count": 8,
   "metadata": {},
   "outputs": [],
   "source": [
    "df_eed = pd.read_csv('output/riptide_EED_flux_sample.csv')\n",
    "df_healthy = pd.read_csv('output/riptide_Healthy_flux_sample.csv')\n",
    "\n",
    "df_eed['label'] = 1\n",
    "df_healthy['label'] = 0\n",
    "\n",
    "df = pd.concat([df_eed, df_healthy], join='inner')\n",
    "df = df.reset_index(drop=True)"
   ]
  },
  {
   "cell_type": "markdown",
   "metadata": {},
   "source": [
    "#### Model instructions\n",
    "\n",
    "- Running the model 90 times with 2 patients (1 healthy + 1 EED) in test and 4 patients (2 healthy + 2 EED) in train.\n",
    "- The test patients are each randomly selected in every 3rd iteration and the next patient is taken in the next two iterations.\n",
    "- Only keeping top reactions from the runs where gains are greater than 0.2. This rule can be modified based on project goals."
   ]
  },
  {
   "cell_type": "code",
   "execution_count": 9,
   "metadata": {},
   "outputs": [
    {
     "name": "stderr",
     "output_type": "stream",
     "text": [
      "\r",
      "  0%|          | 0/90 [00:00<?, ?it/s]"
     ]
    },
    {
     "name": "stdout",
     "output_type": "stream",
     "text": [
      "1 1 1\n"
     ]
    },
    {
     "name": "stderr",
     "output_type": "stream",
     "text": [
      "\r",
      "  1%|          | 1/90 [00:01<02:22,  1.60s/it]"
     ]
    },
    {
     "name": "stdout",
     "output_type": "stream",
     "text": [
      "Training accuracy on selected features: 1.000\n",
      "Testing accuracy on selected features: 0.781\n",
      "F1 Score: 0.8068935041979673\n",
      "Distribution:  0.5\n",
      "Imp features:  Index(['HMR_0393', 'ACACT1x', 'GLYLYSCYSt', 'HMR_0327', 'sink_tyr_L[c]',\n",
      "       'NADtpu', 'NADtx', 'HMGCOAtx', 'r0463', 'HISCYSCYSt'],\n",
      "      dtype='object')\n",
      "--------------------\n",
      "Gain:  0.2815\n",
      "--------------------\n",
      "********************\n",
      "********************\n",
      "2 2 2\n"
     ]
    },
    {
     "name": "stderr",
     "output_type": "stream",
     "text": [
      "\r",
      "  2%|▏         | 2/90 [00:03<02:17,  1.56s/it]"
     ]
    },
    {
     "name": "stdout",
     "output_type": "stream",
     "text": [
      "Training accuracy on selected features: 1.000\n",
      "Testing accuracy on selected features: 0.061\n",
      "F1 Score: 0.11336797354747284\n",
      "Distribution:  0.5\n",
      "Failed to gain:  -0.4385\n",
      "********************\n",
      "********************\n",
      "3 0 0\n"
     ]
    },
    {
     "name": "stderr",
     "output_type": "stream",
     "text": [
      "\r",
      "  3%|▎         | 3/90 [00:05<02:35,  1.78s/it]"
     ]
    },
    {
     "name": "stdout",
     "output_type": "stream",
     "text": [
      "Training accuracy on selected features: 1.000\n",
      "Testing accuracy on selected features: 0.847\n",
      "F1 Score: 0.8668407310704961\n",
      "Distribution:  0.5\n",
      "Imp features:  Index(['RTOT4', 'sink_arg_L[c]', 'sink_tyr_L[c]', 'r0463', 'EX_pcrn[e]',\n",
      "       'C140CPT1', 'NADtpu', 'GLUt2m', 'HMR_0393', 'HMGCOAtx'],\n",
      "      dtype='object')\n",
      "--------------------\n",
      "Gain:  0.347\n",
      "--------------------\n",
      "********************\n",
      "********************\n",
      "4 1 1\n"
     ]
    },
    {
     "name": "stderr",
     "output_type": "stream",
     "text": [
      "\r",
      "  4%|▍         | 4/90 [00:06<02:25,  1.69s/it]"
     ]
    },
    {
     "name": "stdout",
     "output_type": "stream",
     "text": [
      "Training accuracy on selected features: 1.000\n",
      "Testing accuracy on selected features: 0.711\n",
      "F1 Score: 0.7340376665135508\n",
      "Distribution:  0.5\n",
      "Imp features:  Index(['HMR_0327', 'r0463', 'NADtx', 'ACACT1x', 'GLYLYSCYSt', 'HMR_0393',\n",
      "       'NADtpu', 'sink_tyr_L[c]', 'GLYLYSCYSr', 'HMGCOAtx'],\n",
      "      dtype='object')\n",
      "--------------------\n",
      "Gain:  0.21050000000000002\n",
      "--------------------\n",
      "********************\n",
      "********************\n",
      "5 2 2\n"
     ]
    },
    {
     "name": "stderr",
     "output_type": "stream",
     "text": [
      "\r",
      "  6%|▌         | 5/90 [00:08<02:20,  1.65s/it]"
     ]
    },
    {
     "name": "stdout",
     "output_type": "stream",
     "text": [
      "Training accuracy on selected features: 1.000\n",
      "Testing accuracy on selected features: 0.057\n",
      "F1 Score: 0.10446343779677114\n",
      "Distribution:  0.5\n",
      "Failed to gain:  -0.443\n",
      "********************\n",
      "********************\n",
      "6 0 0\n"
     ]
    },
    {
     "name": "stderr",
     "output_type": "stream",
     "text": [
      "\r",
      "  7%|▋         | 6/90 [00:10<02:33,  1.83s/it]"
     ]
    },
    {
     "name": "stdout",
     "output_type": "stream",
     "text": [
      "Training accuracy on selected features: 1.000\n",
      "Testing accuracy on selected features: 0.731\n",
      "F1 Score: 0.7875443437130469\n",
      "Distribution:  0.5\n",
      "Imp features:  Index(['RTOT4', 'ACACT1x', 'sink_arg_L[c]', 'HMGCOAtx', 'r0463', 'CATp',\n",
      "       'GLUt2m', 'DATPtn', 'EX_pcrn[e]', 'HMR_0632'],\n",
      "      dtype='object')\n",
      "--------------------\n",
      "Gain:  0.23050000000000004\n",
      "--------------------\n",
      "********************\n",
      "********************\n",
      "7 2 2\n"
     ]
    },
    {
     "name": "stderr",
     "output_type": "stream",
     "text": [
      "\r",
      "  8%|▊         | 7/90 [00:12<02:23,  1.73s/it]"
     ]
    },
    {
     "name": "stdout",
     "output_type": "stream",
     "text": [
      "Training accuracy on selected features: 1.000\n",
      "Testing accuracy on selected features: 0.047\n",
      "F1 Score: 0.08803827751196172\n",
      "Distribution:  0.5\n",
      "Failed to gain:  -0.453\n",
      "********************\n",
      "********************\n",
      "8 0 0\n"
     ]
    },
    {
     "name": "stderr",
     "output_type": "stream",
     "text": [
      "\r",
      "  9%|▉         | 8/90 [00:14<02:32,  1.86s/it]"
     ]
    },
    {
     "name": "stdout",
     "output_type": "stream",
     "text": [
      "Training accuracy on selected features: 1.000\n",
      "Testing accuracy on selected features: 0.793\n",
      "F1 Score: 0.8285595682855956\n",
      "Distribution:  0.5\n",
      "Imp features:  Index(['RTOT4', 'r0463', 'HMGCOAtx', 'ACACT1x', 'HMR_0327', 'CATp',\n",
      "       'TTDCRNNAt', 'C140CPT1', 'GLUt2m', 'r0181'],\n",
      "      dtype='object')\n",
      "--------------------\n",
      "Gain:  0.2935\n",
      "--------------------\n",
      "********************\n",
      "********************\n",
      "9 1 1\n"
     ]
    },
    {
     "name": "stderr",
     "output_type": "stream",
     "text": [
      "\r",
      " 10%|█         | 9/90 [00:15<02:22,  1.76s/it]"
     ]
    },
    {
     "name": "stdout",
     "output_type": "stream",
     "text": [
      "Training accuracy on selected features: 1.000\n",
      "Testing accuracy on selected features: 0.810\n",
      "F1 Score: 0.8202939781887151\n",
      "Distribution:  0.5\n",
      "Imp features:  Index(['HMR_0393', 'HMR_0327', 'HMGCOAtx', 'NADtpu', 'GLYLYSCYSt',\n",
      "       'GLYLYSCYSr', 'sink_tyr_L[c]', 'r0463', 'EX_pcrn[e]', 'ACACT1x'],\n",
      "      dtype='object')\n",
      "--------------------\n",
      "Gain:  0.3105\n",
      "--------------------\n",
      "********************\n",
      "********************\n",
      "10 0 2\n"
     ]
    },
    {
     "name": "stderr",
     "output_type": "stream",
     "text": [
      "\r",
      " 11%|█         | 10/90 [00:17<02:17,  1.71s/it]"
     ]
    },
    {
     "name": "stdout",
     "output_type": "stream",
     "text": [
      "Training accuracy on selected features: 1.000\n",
      "Testing accuracy on selected features: 0.383\n",
      "F1 Score: 0.5533453887884269\n",
      "Distribution:  0.5\n",
      "Failed to gain:  -0.1175\n",
      "********************\n",
      "********************\n",
      "11 1 0\n"
     ]
    },
    {
     "name": "stderr",
     "output_type": "stream",
     "text": [
      "\r",
      " 12%|█▏        | 11/90 [00:18<02:10,  1.65s/it]"
     ]
    },
    {
     "name": "stdout",
     "output_type": "stream",
     "text": [
      "Training accuracy on selected features: 1.000\n",
      "Testing accuracy on selected features: 0.002\n",
      "F1 Score: 0.0\n",
      "Distribution:  0.5\n",
      "Failed to gain:  -0.4985\n",
      "********************\n",
      "********************\n",
      "12 2 1\n"
     ]
    },
    {
     "name": "stderr",
     "output_type": "stream",
     "text": [
      "\r",
      " 13%|█▎        | 12/90 [00:20<02:14,  1.72s/it]"
     ]
    },
    {
     "name": "stdout",
     "output_type": "stream",
     "text": [
      "Training accuracy on selected features: 1.000\n",
      "Testing accuracy on selected features: 0.514\n",
      "F1 Score: 0.6664378860672615\n",
      "Distribution:  0.5\n",
      "Failed to gain:  0.014000000000000012\n",
      "********************\n",
      "********************\n",
      "13 0 0\n"
     ]
    },
    {
     "name": "stderr",
     "output_type": "stream",
     "text": [
      "\r",
      " 14%|█▍        | 13/90 [00:22<02:24,  1.87s/it]"
     ]
    },
    {
     "name": "stdout",
     "output_type": "stream",
     "text": [
      "Training accuracy on selected features: 1.000\n",
      "Testing accuracy on selected features: 0.771\n",
      "F1 Score: 0.814000814000814\n",
      "Distribution:  0.5\n",
      "Imp features:  Index(['RTOT4', 'ACACT1x', 'sink_arg_L[c]', 'CATp', 'HMGCOAtx', 'r0463',\n",
      "       'EX_ttdcrn[e]', 'NADtx', 'r0202', 'HMR_7898'],\n",
      "      dtype='object')\n",
      "--------------------\n",
      "Gain:  0.27149999999999996\n",
      "--------------------\n",
      "********************\n",
      "********************\n",
      "14 1 1\n"
     ]
    },
    {
     "name": "stderr",
     "output_type": "stream",
     "text": [
      "\r",
      " 16%|█▌        | 14/90 [00:24<02:14,  1.77s/it]"
     ]
    },
    {
     "name": "stdout",
     "output_type": "stream",
     "text": [
      "Training accuracy on selected features: 1.000\n",
      "Testing accuracy on selected features: 0.527\n",
      "F1 Score: 0.3891402714932126\n",
      "Distribution:  0.5\n",
      "Failed to gain:  0.02749999999999997\n",
      "********************\n",
      "********************\n",
      "15 2 2\n"
     ]
    },
    {
     "name": "stderr",
     "output_type": "stream",
     "text": [
      "\r",
      " 17%|█▋        | 15/90 [00:25<02:06,  1.69s/it]"
     ]
    },
    {
     "name": "stdout",
     "output_type": "stream",
     "text": [
      "Training accuracy on selected features: 1.000\n",
      "Testing accuracy on selected features: 0.034\n",
      "F1 Score: 0.0648282535074988\n",
      "Distribution:  0.5\n",
      "Failed to gain:  -0.4665\n",
      "********************\n",
      "********************\n",
      "16 1 2\n"
     ]
    },
    {
     "name": "stderr",
     "output_type": "stream",
     "text": [
      "\r",
      " 18%|█▊        | 16/90 [00:27<02:02,  1.66s/it]"
     ]
    },
    {
     "name": "stdout",
     "output_type": "stream",
     "text": [
      "Training accuracy on selected features: 1.000\n",
      "Testing accuracy on selected features: 0.499\n",
      "F1 Score: 0.10053859964093356\n",
      "Distribution:  0.5\n",
      "Failed to gain:  -0.0010000000000000009\n",
      "********************\n",
      "********************\n",
      "17 2 0\n"
     ]
    },
    {
     "name": "stderr",
     "output_type": "stream",
     "text": [
      "\r",
      " 19%|█▉        | 17/90 [00:29<02:15,  1.86s/it]"
     ]
    },
    {
     "name": "stdout",
     "output_type": "stream",
     "text": [
      "Training accuracy on selected features: 1.000\n",
      "Testing accuracy on selected features: 0.463\n",
      "F1 Score: 0.5262230057293962\n",
      "Distribution:  0.5\n",
      "Failed to gain:  -0.03749999999999998\n",
      "********************\n",
      "********************\n",
      "18 0 1\n"
     ]
    },
    {
     "name": "stderr",
     "output_type": "stream",
     "text": [
      "\r",
      " 20%|██        | 18/90 [00:31<02:08,  1.79s/it]"
     ]
    },
    {
     "name": "stdout",
     "output_type": "stream",
     "text": [
      "Training accuracy on selected features: 1.000\n",
      "Testing accuracy on selected features: 0.501\n",
      "F1 Score: 0.6609996599795988\n",
      "Distribution:  0.5\n",
      "Failed to gain:  0.0014999999999999458\n",
      "********************\n",
      "********************\n",
      "19 0 0\n"
     ]
    },
    {
     "name": "stderr",
     "output_type": "stream",
     "text": [
      "\r",
      " 21%|██        | 19/90 [00:33<02:14,  1.89s/it]"
     ]
    },
    {
     "name": "stdout",
     "output_type": "stream",
     "text": [
      "Training accuracy on selected features: 1.000\n",
      "Testing accuracy on selected features: 0.889\n",
      "F1 Score: 0.8999098286744815\n",
      "Distribution:  0.5\n",
      "Imp features:  Index(['RTOT4', 'sink_arg_L[c]', 'EX_pcrn[e]', 'ACACT1x', 'HMR_7898', 'NADtpu',\n",
      "       'C140CPT1', 'HMR_0632', 'r1428', 'HMGCOAtx'],\n",
      "      dtype='object')\n",
      "--------------------\n",
      "Gain:  0.389\n",
      "--------------------\n",
      "********************\n",
      "********************\n",
      "20 1 1\n"
     ]
    },
    {
     "name": "stderr",
     "output_type": "stream",
     "text": [
      "\r",
      " 22%|██▏       | 20/90 [00:35<02:05,  1.80s/it]"
     ]
    },
    {
     "name": "stdout",
     "output_type": "stream",
     "text": [
      "Training accuracy on selected features: 1.000\n",
      "Testing accuracy on selected features: 0.590\n",
      "F1 Score: 0.42946490618485056\n",
      "Distribution:  0.5\n",
      "Failed to gain:  0.08950000000000002\n",
      "********************\n",
      "********************\n",
      "21 2 2\n"
     ]
    },
    {
     "name": "stderr",
     "output_type": "stream",
     "text": [
      "\r",
      " 23%|██▎       | 21/90 [00:36<01:59,  1.73s/it]"
     ]
    },
    {
     "name": "stdout",
     "output_type": "stream",
     "text": [
      "Training accuracy on selected features: 1.000\n",
      "Testing accuracy on selected features: 0.048\n",
      "F1 Score: 0.0872065165309056\n",
      "Distribution:  0.5\n",
      "Failed to gain:  -0.4525\n",
      "********************\n",
      "********************\n",
      "22 0 1\n"
     ]
    },
    {
     "name": "stderr",
     "output_type": "stream",
     "text": [
      "\r",
      " 24%|██▍       | 22/90 [00:38<01:55,  1.70s/it]"
     ]
    },
    {
     "name": "stdout",
     "output_type": "stream",
     "text": [
      "Training accuracy on selected features: 1.000\n",
      "Testing accuracy on selected features: 0.519\n",
      "F1 Score: 0.6691884456671252\n",
      "Distribution:  0.5\n",
      "Failed to gain:  0.019000000000000017\n",
      "********************\n",
      "********************\n",
      "23 1 2\n"
     ]
    },
    {
     "name": "stderr",
     "output_type": "stream",
     "text": [
      "\r",
      " 26%|██▌       | 23/90 [00:40<01:52,  1.68s/it]"
     ]
    },
    {
     "name": "stdout",
     "output_type": "stream",
     "text": [
      "Training accuracy on selected features: 1.000\n",
      "Testing accuracy on selected features: 0.421\n",
      "F1 Score: 0.19359331476323122\n",
      "Distribution:  0.5\n",
      "Failed to gain:  -0.07900000000000001\n",
      "********************\n",
      "********************\n",
      "24 2 0\n"
     ]
    },
    {
     "name": "stderr",
     "output_type": "stream",
     "text": [
      "\r",
      " 27%|██▋       | 24/90 [00:42<02:00,  1.83s/it]"
     ]
    },
    {
     "name": "stdout",
     "output_type": "stream",
     "text": [
      "Training accuracy on selected features: 1.000\n",
      "Testing accuracy on selected features: 0.492\n",
      "F1 Score: 0.5388459791004089\n",
      "Distribution:  0.5\n",
      "Failed to gain:  -0.007500000000000007\n",
      "********************\n",
      "********************\n",
      "25 1 1\n"
     ]
    },
    {
     "name": "stderr",
     "output_type": "stream",
     "text": [
      "\r",
      " 28%|██▊       | 25/90 [00:43<01:54,  1.77s/it]"
     ]
    },
    {
     "name": "stdout",
     "output_type": "stream",
     "text": [
      "Training accuracy on selected features: 1.000\n",
      "Testing accuracy on selected features: 0.748\n",
      "F1 Score: 0.7449392712550607\n",
      "Distribution:  0.5\n",
      "Imp features:  Index(['HMR_0393', 'NADtpu', 'HMR_0327', 'r0463', 'GLYLYSCYSr', 'HMGCOAtx',\n",
      "       'sink_tyr_L[c]', 'EX_pcrn[e]', 'ACACT1x', 'NADtx'],\n",
      "      dtype='object')\n",
      "--------------------\n",
      "Gain:  0.248\n",
      "--------------------\n",
      "********************\n",
      "********************\n",
      "26 2 2\n"
     ]
    },
    {
     "name": "stderr",
     "output_type": "stream",
     "text": [
      "\r",
      " 29%|██▉       | 26/90 [00:45<01:49,  1.71s/it]"
     ]
    },
    {
     "name": "stdout",
     "output_type": "stream",
     "text": [
      "Training accuracy on selected features: 1.000\n",
      "Testing accuracy on selected features: 0.015\n",
      "F1 Score: 0.029556650246305417\n",
      "Distribution:  0.5\n",
      "Failed to gain:  -0.485\n",
      "********************\n",
      "********************\n",
      "27 0 0\n"
     ]
    },
    {
     "name": "stderr",
     "output_type": "stream",
     "text": [
      "\r",
      " 30%|███       | 27/90 [00:47<01:54,  1.81s/it]"
     ]
    },
    {
     "name": "stdout",
     "output_type": "stream",
     "text": [
      "Training accuracy on selected features: 1.000\n",
      "Testing accuracy on selected features: 0.923\n",
      "F1 Score: 0.9285051067780873\n",
      "Distribution:  0.5\n",
      "Imp features:  Index(['RTOT4', 'r0202', 'sink_arg_L[c]', 'sink_thr_L[c]', 'HMGCOAtx',\n",
      "       'TTDCRNNAt', 'r0463', 'CATp', 'C140CPT1', 'ACACT1x'],\n",
      "      dtype='object')\n",
      "--------------------\n",
      "Gain:  0.42300000000000004\n",
      "--------------------\n",
      "********************\n",
      "********************\n",
      "28 1 0\n"
     ]
    },
    {
     "name": "stderr",
     "output_type": "stream",
     "text": [
      "\r",
      " 31%|███       | 28/90 [00:49<01:47,  1.73s/it]"
     ]
    },
    {
     "name": "stdout",
     "output_type": "stream",
     "text": [
      "Training accuracy on selected features: 1.000\n",
      "Testing accuracy on selected features: 0.001\n",
      "F1 Score: 0.0\n",
      "Distribution:  0.5\n",
      "Failed to gain:  -0.4995\n",
      "********************\n",
      "********************\n",
      "29 2 1\n"
     ]
    },
    {
     "name": "stderr",
     "output_type": "stream",
     "text": [
      "\r",
      " 32%|███▏      | 29/90 [00:50<01:47,  1.77s/it]"
     ]
    },
    {
     "name": "stdout",
     "output_type": "stream",
     "text": [
      "Training accuracy on selected features: 1.000\n",
      "Testing accuracy on selected features: 0.508\n",
      "F1 Score: 0.6625472021970477\n",
      "Distribution:  0.5\n",
      "Failed to gain:  0.008499999999999952\n",
      "********************\n",
      "********************\n",
      "30 0 2\n"
     ]
    },
    {
     "name": "stderr",
     "output_type": "stream",
     "text": [
      "\r",
      " 33%|███▎      | 30/90 [00:52<01:43,  1.72s/it]"
     ]
    },
    {
     "name": "stdout",
     "output_type": "stream",
     "text": [
      "Training accuracy on selected features: 1.000\n",
      "Testing accuracy on selected features: 0.424\n",
      "F1 Score: 0.595998595998596\n",
      "Distribution:  0.5\n",
      "Failed to gain:  -0.07550000000000001\n",
      "********************\n",
      "********************\n",
      "31 2 1\n"
     ]
    },
    {
     "name": "stderr",
     "output_type": "stream",
     "text": [
      "\r",
      " 34%|███▍      | 31/90 [00:54<01:43,  1.76s/it]"
     ]
    },
    {
     "name": "stdout",
     "output_type": "stream",
     "text": [
      "Training accuracy on selected features: 1.000\n",
      "Testing accuracy on selected features: 0.502\n",
      "F1 Score: 0.6589041095890411\n",
      "Distribution:  0.5\n",
      "Failed to gain:  0.0020000000000000018\n",
      "********************\n",
      "********************\n",
      "32 0 2\n"
     ]
    },
    {
     "name": "stderr",
     "output_type": "stream",
     "text": [
      "\r",
      " 36%|███▌      | 32/90 [00:55<01:38,  1.70s/it]"
     ]
    },
    {
     "name": "stdout",
     "output_type": "stream",
     "text": [
      "Training accuracy on selected features: 1.000\n",
      "Testing accuracy on selected features: 0.384\n",
      "F1 Score: 0.5549132947976878\n",
      "Distribution:  0.5\n",
      "Failed to gain:  -0.11599999999999999\n",
      "********************\n",
      "********************\n",
      "33 1 0\n"
     ]
    },
    {
     "name": "stderr",
     "output_type": "stream",
     "text": [
      "\r",
      " 37%|███▋      | 33/90 [00:57<01:33,  1.65s/it]"
     ]
    },
    {
     "name": "stdout",
     "output_type": "stream",
     "text": [
      "Training accuracy on selected features: 1.000\n",
      "Testing accuracy on selected features: 0.000\n",
      "F1 Score: 0.0\n",
      "Distribution:  0.5\n",
      "Failed to gain:  -0.5\n",
      "********************\n",
      "********************\n",
      "34 0 0\n"
     ]
    },
    {
     "name": "stderr",
     "output_type": "stream",
     "text": [
      "\r",
      " 38%|███▊      | 34/90 [00:59<01:40,  1.79s/it]"
     ]
    },
    {
     "name": "stdout",
     "output_type": "stream",
     "text": [
      "Training accuracy on selected features: 1.000\n",
      "Testing accuracy on selected features: 0.909\n",
      "F1 Score: 0.9164370982552802\n",
      "Distribution:  0.5\n",
      "Imp features:  Index(['RTOT4', 'sink_arg_L[c]', 'ACACT1x', 'r1428', 'HMGCOAtx',\n",
      "       'sink_tyr_L[c]', 'C140CPT1', 'CATp', 'r0463', 'HMR_0393'],\n",
      "      dtype='object')\n",
      "--------------------\n",
      "Gain:  0.40900000000000003\n",
      "--------------------\n",
      "********************\n",
      "********************\n",
      "35 1 1\n"
     ]
    },
    {
     "name": "stderr",
     "output_type": "stream",
     "text": [
      "\r",
      " 39%|███▉      | 35/90 [01:01<01:35,  1.73s/it]"
     ]
    },
    {
     "name": "stdout",
     "output_type": "stream",
     "text": [
      "Training accuracy on selected features: 1.000\n",
      "Testing accuracy on selected features: 0.668\n",
      "F1 Score: 0.6841353025250119\n",
      "Distribution:  0.5\n",
      "Failed to gain:  0.16849999999999998\n",
      "********************\n",
      "********************\n",
      "36 2 2\n"
     ]
    },
    {
     "name": "stderr",
     "output_type": "stream",
     "text": [
      "\r",
      " 40%|████      | 36/90 [01:02<01:30,  1.68s/it]"
     ]
    },
    {
     "name": "stdout",
     "output_type": "stream",
     "text": [
      "Training accuracy on selected features: 1.000\n",
      "Testing accuracy on selected features: 0.020\n",
      "F1 Score: 0.034482758620689655\n",
      "Distribution:  0.5\n",
      "Failed to gain:  -0.48\n",
      "********************\n",
      "********************\n",
      "37 2 1\n"
     ]
    },
    {
     "name": "stderr",
     "output_type": "stream",
     "text": [
      "\r",
      " 41%|████      | 37/90 [01:04<01:32,  1.74s/it]"
     ]
    },
    {
     "name": "stdout",
     "output_type": "stream",
     "text": [
      "Training accuracy on selected features: 1.000\n",
      "Testing accuracy on selected features: 0.524\n",
      "F1 Score: 0.6694444444444445\n",
      "Distribution:  0.5\n",
      "Failed to gain:  0.02400000000000002\n",
      "********************\n",
      "********************\n",
      "38 0 2\n"
     ]
    },
    {
     "name": "stderr",
     "output_type": "stream",
     "text": [
      "\r",
      " 42%|████▏     | 38/90 [01:06<01:27,  1.68s/it]"
     ]
    },
    {
     "name": "stdout",
     "output_type": "stream",
     "text": [
      "Training accuracy on selected features: 1.000\n",
      "Testing accuracy on selected features: 0.364\n",
      "F1 Score: 0.533724340175953\n",
      "Distribution:  0.5\n",
      "Failed to gain:  -0.136\n",
      "********************\n",
      "********************\n",
      "39 1 0\n"
     ]
    },
    {
     "name": "stderr",
     "output_type": "stream",
     "text": [
      "\r",
      " 43%|████▎     | 39/90 [01:07<01:21,  1.59s/it]"
     ]
    },
    {
     "name": "stdout",
     "output_type": "stream",
     "text": [
      "Training accuracy on selected features: 1.000\n",
      "Testing accuracy on selected features: 0.001\n",
      "F1 Score: 0.0\n",
      "Distribution:  0.5\n",
      "Failed to gain:  -0.4995\n",
      "********************\n",
      "********************\n",
      "40 1 1\n"
     ]
    },
    {
     "name": "stderr",
     "output_type": "stream",
     "text": [
      "\r",
      " 44%|████▍     | 40/90 [01:09<01:19,  1.59s/it]"
     ]
    },
    {
     "name": "stdout",
     "output_type": "stream",
     "text": [
      "Training accuracy on selected features: 1.000\n",
      "Testing accuracy on selected features: 0.540\n",
      "F1 Score: 0.43515673017824213\n",
      "Distribution:  0.5\n",
      "Failed to gain:  0.04049999999999998\n",
      "********************\n",
      "********************\n",
      "41 2 2\n"
     ]
    },
    {
     "name": "stderr",
     "output_type": "stream",
     "text": [
      "\r",
      " 46%|████▌     | 41/90 [01:10<01:17,  1.58s/it]"
     ]
    },
    {
     "name": "stdout",
     "output_type": "stream",
     "text": [
      "Training accuracy on selected features: 1.000\n",
      "Testing accuracy on selected features: 0.032\n",
      "F1 Score: 0.06110572259941804\n",
      "Distribution:  0.5\n",
      "Failed to gain:  -0.46799999999999997\n",
      "********************\n",
      "********************\n",
      "42 0 0\n"
     ]
    },
    {
     "name": "stderr",
     "output_type": "stream",
     "text": [
      "\r",
      " 47%|████▋     | 42/90 [01:12<01:23,  1.74s/it]"
     ]
    },
    {
     "name": "stdout",
     "output_type": "stream",
     "text": [
      "Training accuracy on selected features: 1.000\n",
      "Testing accuracy on selected features: 0.735\n",
      "F1 Score: 0.7900355871886121\n",
      "Distribution:  0.5\n",
      "Imp features:  Index(['RTOT4', 'r0463', 'ACACT1x', 'HMGCOAtx', 'r0202', 'C140CPT1',\n",
      "       'TTDCRNNAt', 'r1428', 'DTMPKm', 'NADtpu'],\n",
      "      dtype='object')\n",
      "--------------------\n",
      "Gain:  0.23450000000000004\n",
      "--------------------\n",
      "********************\n",
      "********************\n",
      "43 2 2\n"
     ]
    },
    {
     "name": "stderr",
     "output_type": "stream",
     "text": [
      "\r",
      " 48%|████▊     | 43/90 [01:14<01:18,  1.67s/it]"
     ]
    },
    {
     "name": "stdout",
     "output_type": "stream",
     "text": [
      "Training accuracy on selected features: 1.000\n",
      "Testing accuracy on selected features: 0.029\n",
      "F1 Score: 0.05360623781676414\n",
      "Distribution:  0.5\n",
      "Failed to gain:  -0.471\n",
      "********************\n",
      "********************\n",
      "44 0 0\n"
     ]
    },
    {
     "name": "stderr",
     "output_type": "stream",
     "text": [
      "\r",
      " 49%|████▉     | 44/90 [01:16<01:23,  1.81s/it]"
     ]
    },
    {
     "name": "stdout",
     "output_type": "stream",
     "text": [
      "Training accuracy on selected features: 1.000\n",
      "Testing accuracy on selected features: 0.838\n",
      "F1 Score: 0.860344827586207\n",
      "Distribution:  0.5\n",
      "Imp features:  Index(['RTOT4', 'r0463', 'r0202', 'HMGCOAtx', 'ACACT1x', 'NADtx',\n",
      "       'sink_tyr_L[c]', 'sink_arg_L[c]', 'r1428', 'C140CPT1'],\n",
      "      dtype='object')\n",
      "--------------------\n",
      "Gain:  0.33799999999999997\n",
      "--------------------\n",
      "********************\n",
      "********************\n",
      "45 1 1\n"
     ]
    },
    {
     "name": "stderr",
     "output_type": "stream",
     "text": [
      "\r",
      " 50%|█████     | 45/90 [01:18<01:18,  1.75s/it]"
     ]
    },
    {
     "name": "stdout",
     "output_type": "stream",
     "text": [
      "Training accuracy on selected features: 1.000\n",
      "Testing accuracy on selected features: 0.509\n",
      "F1 Score: 0.33850303438975055\n",
      "Distribution:  0.5\n",
      "Failed to gain:  0.009499999999999953\n",
      "********************\n",
      "********************\n",
      "46 2 0\n"
     ]
    },
    {
     "name": "stderr",
     "output_type": "stream",
     "text": [
      "\r",
      " 51%|█████     | 46/90 [01:20<01:23,  1.89s/it]"
     ]
    },
    {
     "name": "stdout",
     "output_type": "stream",
     "text": [
      "Training accuracy on selected features: 1.000\n",
      "Testing accuracy on selected features: 0.707\n",
      "F1 Score: 0.6740823136818688\n",
      "Distribution:  0.5\n",
      "Imp features:  Index(['r0202', 'RTOT4', 'r0430', 'r1428', 'EX_docosdiac[e]', 'HMR_7898',\n",
      "       'RE0578C', 'O2tm', 'r0431', 'r0509'],\n",
      "      dtype='object')\n",
      "--------------------\n",
      "Gain:  0.20699999999999996\n",
      "--------------------\n",
      "********************\n",
      "********************\n",
      "47 0 1\n"
     ]
    },
    {
     "name": "stderr",
     "output_type": "stream",
     "text": [
      "\r",
      " 52%|█████▏    | 47/90 [01:21<01:16,  1.79s/it]"
     ]
    },
    {
     "name": "stdout",
     "output_type": "stream",
     "text": [
      "Training accuracy on selected features: 1.000\n",
      "Testing accuracy on selected features: 0.491\n",
      "F1 Score: 0.6546811397557667\n",
      "Distribution:  0.5\n",
      "Failed to gain:  -0.009000000000000008\n",
      "********************\n",
      "********************\n",
      "48 1 2\n"
     ]
    },
    {
     "name": "stderr",
     "output_type": "stream",
     "text": [
      "\r",
      " 53%|█████▎    | 48/90 [01:23<01:12,  1.73s/it]"
     ]
    },
    {
     "name": "stdout",
     "output_type": "stream",
     "text": [
      "Training accuracy on selected features: 1.000\n",
      "Testing accuracy on selected features: 0.460\n",
      "F1 Score: 0.06890611541774333\n",
      "Distribution:  0.5\n",
      "Failed to gain:  -0.04049999999999998\n",
      "********************\n",
      "********************\n",
      "49 0 2\n"
     ]
    },
    {
     "name": "stderr",
     "output_type": "stream",
     "text": [
      "\r",
      " 54%|█████▍    | 49/90 [01:24<01:08,  1.67s/it]"
     ]
    },
    {
     "name": "stdout",
     "output_type": "stream",
     "text": [
      "Training accuracy on selected features: 1.000\n",
      "Testing accuracy on selected features: 0.459\n",
      "F1 Score: 0.6287281453548166\n",
      "Distribution:  0.5\n",
      "Failed to gain:  -0.04149999999999998\n",
      "********************\n",
      "********************\n",
      "50 1 0\n"
     ]
    },
    {
     "name": "stderr",
     "output_type": "stream",
     "text": [
      "\r",
      " 56%|█████▌    | 50/90 [01:26<01:04,  1.62s/it]"
     ]
    },
    {
     "name": "stdout",
     "output_type": "stream",
     "text": [
      "Training accuracy on selected features: 1.000\n",
      "Testing accuracy on selected features: 0.003\n",
      "F1 Score: 0.0\n",
      "Distribution:  0.5\n",
      "Failed to gain:  -0.4975\n",
      "********************\n",
      "********************\n",
      "51 2 1\n"
     ]
    },
    {
     "name": "stderr",
     "output_type": "stream",
     "text": [
      "\r",
      " 57%|█████▋    | 51/90 [01:28<01:05,  1.69s/it]"
     ]
    },
    {
     "name": "stdout",
     "output_type": "stream",
     "text": [
      "Training accuracy on selected features: 1.000\n",
      "Testing accuracy on selected features: 0.520\n",
      "F1 Score: 0.6662030598052852\n",
      "Distribution:  0.5\n",
      "Failed to gain:  0.020000000000000018\n",
      "********************\n",
      "********************\n",
      "52 2 1\n"
     ]
    },
    {
     "name": "stderr",
     "output_type": "stream",
     "text": [
      "\r",
      " 58%|█████▊    | 52/90 [01:30<01:05,  1.72s/it]"
     ]
    },
    {
     "name": "stdout",
     "output_type": "stream",
     "text": [
      "Training accuracy on selected features: 1.000\n",
      "Testing accuracy on selected features: 0.511\n",
      "F1 Score: 0.6618257261410788\n",
      "Distribution:  0.5\n",
      "Failed to gain:  0.01100000000000001\n",
      "********************\n",
      "********************\n",
      "53 0 2\n"
     ]
    },
    {
     "name": "stderr",
     "output_type": "stream",
     "text": [
      "\r",
      " 59%|█████▉    | 53/90 [01:31<01:02,  1.69s/it]"
     ]
    },
    {
     "name": "stdout",
     "output_type": "stream",
     "text": [
      "Training accuracy on selected features: 1.000\n",
      "Testing accuracy on selected features: 0.340\n",
      "F1 Score: 0.5074626865671642\n",
      "Distribution:  0.5\n",
      "Failed to gain:  -0.15999999999999998\n",
      "********************\n",
      "********************\n",
      "54 1 0\n"
     ]
    },
    {
     "name": "stderr",
     "output_type": "stream",
     "text": [
      "\r",
      " 60%|██████    | 54/90 [01:33<00:58,  1.64s/it]"
     ]
    },
    {
     "name": "stdout",
     "output_type": "stream",
     "text": [
      "Training accuracy on selected features: 1.000\n",
      "Testing accuracy on selected features: 0.000\n",
      "F1 Score: 0.0\n",
      "Distribution:  0.5\n",
      "Failed to gain:  -0.5\n",
      "********************\n",
      "********************\n",
      "55 2 1\n"
     ]
    },
    {
     "name": "stderr",
     "output_type": "stream",
     "text": [
      "\r",
      " 61%|██████    | 55/90 [01:34<00:58,  1.68s/it]"
     ]
    },
    {
     "name": "stdout",
     "output_type": "stream",
     "text": [
      "Training accuracy on selected features: 1.000\n",
      "Testing accuracy on selected features: 0.520\n",
      "F1 Score: 0.6673596673596673\n",
      "Distribution:  0.5\n",
      "Failed to gain:  0.020000000000000018\n",
      "********************\n",
      "********************\n",
      "56 0 2\n"
     ]
    },
    {
     "name": "stderr",
     "output_type": "stream",
     "text": [
      "\r",
      " 62%|██████▏   | 56/90 [01:36<00:56,  1.66s/it]"
     ]
    },
    {
     "name": "stdout",
     "output_type": "stream",
     "text": [
      "Training accuracy on selected features: 1.000\n",
      "Testing accuracy on selected features: 0.396\n",
      "F1 Score: 0.5673352435530086\n",
      "Distribution:  0.5\n",
      "Failed to gain:  -0.10399999999999998\n",
      "********************\n",
      "********************\n",
      "57 1 0\n"
     ]
    },
    {
     "name": "stderr",
     "output_type": "stream",
     "text": [
      "\r",
      " 63%|██████▎   | 57/90 [01:38<00:52,  1.60s/it]"
     ]
    },
    {
     "name": "stdout",
     "output_type": "stream",
     "text": [
      "Training accuracy on selected features: 1.000\n",
      "Testing accuracy on selected features: 0.001\n",
      "F1 Score: 0.0\n",
      "Distribution:  0.5\n",
      "Failed to gain:  -0.4995\n",
      "********************\n",
      "********************\n",
      "58 2 2\n"
     ]
    },
    {
     "name": "stderr",
     "output_type": "stream",
     "text": [
      "\r",
      " 64%|██████▍   | 58/90 [01:39<00:50,  1.59s/it]"
     ]
    },
    {
     "name": "stdout",
     "output_type": "stream",
     "text": [
      "Training accuracy on selected features: 1.000\n",
      "Testing accuracy on selected features: 0.017\n",
      "F1 Score: 0.03055692459339576\n",
      "Distribution:  0.5\n",
      "Failed to gain:  -0.4835\n",
      "********************\n",
      "********************\n",
      "59 0 0\n"
     ]
    },
    {
     "name": "stderr",
     "output_type": "stream",
     "text": [
      "\r",
      " 66%|██████▌   | 59/90 [01:41<00:54,  1.76s/it]"
     ]
    },
    {
     "name": "stdout",
     "output_type": "stream",
     "text": [
      "Training accuracy on selected features: 1.000\n",
      "Testing accuracy on selected features: 0.920\n",
      "F1 Score: 0.9262180974477957\n",
      "Distribution:  0.5\n",
      "Imp features:  Index(['RTOT4', 'sink_arg_L[c]', 'r0463', 'r1428', 'HMGCOAtx', 'CATp',\n",
      "       'NADtpu', 'DATPtn', 'NADtx', 'GLUt2m'],\n",
      "      dtype='object')\n",
      "--------------------\n",
      "Gain:  0.4205\n",
      "--------------------\n",
      "********************\n",
      "********************\n",
      "60 1 1\n"
     ]
    },
    {
     "name": "stderr",
     "output_type": "stream",
     "text": [
      "\r",
      " 67%|██████▋   | 60/90 [01:43<00:51,  1.71s/it]"
     ]
    },
    {
     "name": "stdout",
     "output_type": "stream",
     "text": [
      "Training accuracy on selected features: 1.000\n",
      "Testing accuracy on selected features: 0.752\n",
      "F1 Score: 0.7616754935002408\n",
      "Distribution:  0.5\n",
      "Imp features:  Index(['HMR_0327', 'HMGCOAtx', 'NADtx', 'sink_tyr_L[c]', 'HMR_0393',\n",
      "       'GLYLYSCYSr', 'GLYLYSCYSt', 'r0463', 'ACACT1x', 'HMR_2368'],\n",
      "      dtype='object')\n",
      "--------------------\n",
      "Gain:  0.25249999999999995\n",
      "--------------------\n",
      "********************\n",
      "********************\n",
      "61 2 1\n"
     ]
    },
    {
     "name": "stderr",
     "output_type": "stream",
     "text": [
      "\r",
      " 68%|██████▊   | 61/90 [01:45<00:51,  1.76s/it]"
     ]
    },
    {
     "name": "stdout",
     "output_type": "stream",
     "text": [
      "Training accuracy on selected features: 1.000\n",
      "Testing accuracy on selected features: 0.506\n",
      "F1 Score: 0.6611796982167352\n",
      "Distribution:  0.5\n",
      "Failed to gain:  0.006000000000000005\n",
      "********************\n",
      "********************\n",
      "62 0 2\n"
     ]
    },
    {
     "name": "stderr",
     "output_type": "stream",
     "text": [
      "\r",
      " 69%|██████▉   | 62/90 [01:46<00:47,  1.69s/it]"
     ]
    },
    {
     "name": "stdout",
     "output_type": "stream",
     "text": [
      "Training accuracy on selected features: 1.000\n",
      "Testing accuracy on selected features: 0.373\n",
      "F1 Score: 0.5438660356752821\n",
      "Distribution:  0.5\n",
      "Failed to gain:  -0.1265\n",
      "********************\n",
      "********************\n",
      "63 1 0\n"
     ]
    },
    {
     "name": "stderr",
     "output_type": "stream",
     "text": [
      "\r",
      " 70%|███████   | 63/90 [01:48<00:44,  1.64s/it]"
     ]
    },
    {
     "name": "stdout",
     "output_type": "stream",
     "text": [
      "Training accuracy on selected features: 1.000\n",
      "Testing accuracy on selected features: 0.000\n",
      "F1 Score: 0.0\n",
      "Distribution:  0.5\n",
      "Failed to gain:  -0.5\n",
      "********************\n",
      "********************\n",
      "64 1 1\n"
     ]
    },
    {
     "name": "stderr",
     "output_type": "stream",
     "text": [
      "\r",
      " 71%|███████   | 64/90 [01:49<00:42,  1.62s/it]"
     ]
    },
    {
     "name": "stdout",
     "output_type": "stream",
     "text": [
      "Training accuracy on selected features: 1.000\n",
      "Testing accuracy on selected features: 0.802\n",
      "F1 Score: 0.809270883631096\n",
      "Distribution:  0.5\n",
      "Imp features:  Index(['HMR_0327', 'r0463', 'HMR_0393', 'NADtx', 'sink_tyr_L[c]', 'EX_pcrn[e]',\n",
      "       'EX_glylyscys[e]', 'NADtpu', 'ACACT1x', 'GLYLYSCYSr'],\n",
      "      dtype='object')\n",
      "--------------------\n",
      "Gain:  0.3025\n",
      "--------------------\n",
      "********************\n",
      "********************\n",
      "65 2 2\n"
     ]
    },
    {
     "name": "stderr",
     "output_type": "stream",
     "text": [
      "\r",
      " 72%|███████▏  | 65/90 [01:51<00:39,  1.59s/it]"
     ]
    },
    {
     "name": "stdout",
     "output_type": "stream",
     "text": [
      "Training accuracy on selected features: 1.000\n",
      "Testing accuracy on selected features: 0.033\n",
      "F1 Score: 0.06022340942204954\n",
      "Distribution:  0.5\n",
      "Failed to gain:  -0.4675\n",
      "********************\n",
      "********************\n",
      "66 0 0\n"
     ]
    },
    {
     "name": "stderr",
     "output_type": "stream",
     "text": [
      "\r",
      " 73%|███████▎  | 66/90 [01:53<00:41,  1.73s/it]"
     ]
    },
    {
     "name": "stdout",
     "output_type": "stream",
     "text": [
      "Training accuracy on selected features: 1.000\n",
      "Testing accuracy on selected features: 0.915\n",
      "F1 Score: 0.921358771521638\n",
      "Distribution:  0.5\n",
      "Imp features:  Index(['RTOT4', 'r0463', 'NADtx', 'ACACT1x', 'HMGCOAtx', 'CATp', 'DGTPtn',\n",
      "       'sink_arg_L[c]', 'NADtpu', 'r0202'],\n",
      "      dtype='object')\n",
      "--------------------\n",
      "Gain:  0.4155\n",
      "--------------------\n",
      "********************\n",
      "********************\n",
      "67 2 1\n"
     ]
    },
    {
     "name": "stderr",
     "output_type": "stream",
     "text": [
      "\r",
      " 74%|███████▍  | 67/90 [01:55<00:40,  1.75s/it]"
     ]
    },
    {
     "name": "stdout",
     "output_type": "stream",
     "text": [
      "Training accuracy on selected features: 1.000\n",
      "Testing accuracy on selected features: 0.534\n",
      "F1 Score: 0.676164002779708\n",
      "Distribution:  0.5\n",
      "Failed to gain:  0.03400000000000003\n",
      "********************\n",
      "********************\n",
      "68 0 2\n"
     ]
    },
    {
     "name": "stderr",
     "output_type": "stream",
     "text": [
      "\r",
      " 76%|███████▌  | 68/90 [01:56<00:37,  1.69s/it]"
     ]
    },
    {
     "name": "stdout",
     "output_type": "stream",
     "text": [
      "Training accuracy on selected features: 1.000\n",
      "Testing accuracy on selected features: 0.394\n",
      "F1 Score: 0.5647649802655185\n",
      "Distribution:  0.5\n",
      "Failed to gain:  -0.10649999999999998\n",
      "********************\n",
      "********************\n",
      "69 1 0\n"
     ]
    },
    {
     "name": "stderr",
     "output_type": "stream",
     "text": [
      "\r",
      " 77%|███████▋  | 69/90 [01:58<00:34,  1.64s/it]"
     ]
    },
    {
     "name": "stdout",
     "output_type": "stream",
     "text": [
      "Training accuracy on selected features: 1.000\n",
      "Testing accuracy on selected features: 0.018\n",
      "F1 Score: 0.0\n",
      "Distribution:  0.5\n",
      "Failed to gain:  -0.4815\n",
      "********************\n",
      "********************\n",
      "70 0 0\n"
     ]
    },
    {
     "name": "stderr",
     "output_type": "stream",
     "text": [
      "\r",
      " 78%|███████▊  | 70/90 [02:00<00:36,  1.82s/it]"
     ]
    },
    {
     "name": "stdout",
     "output_type": "stream",
     "text": [
      "Training accuracy on selected features: 1.000\n",
      "Testing accuracy on selected features: 0.877\n",
      "F1 Score: 0.8904719501335708\n",
      "Distribution:  0.5\n",
      "Imp features:  Index(['RTOT4', 'r0463', 'HMGCOAtx', 'sink_arg_L[c]', 'r0202', 'GLUt2m',\n",
      "       'ACACT1x', 'sink_tyr_L[c]', 'CATp', 'HMR_0393'],\n",
      "      dtype='object')\n",
      "--------------------\n",
      "Gain:  0.377\n",
      "--------------------\n",
      "********************\n",
      "********************\n",
      "71 1 1\n"
     ]
    },
    {
     "name": "stderr",
     "output_type": "stream",
     "text": [
      "\r",
      " 79%|███████▉  | 71/90 [02:02<00:33,  1.75s/it]"
     ]
    },
    {
     "name": "stdout",
     "output_type": "stream",
     "text": [
      "Training accuracy on selected features: 1.000\n",
      "Testing accuracy on selected features: 0.682\n",
      "F1 Score: 0.6652631578947369\n",
      "Distribution:  0.5\n",
      "Failed to gain:  0.18200000000000005\n",
      "********************\n",
      "********************\n",
      "72 2 2\n"
     ]
    },
    {
     "name": "stderr",
     "output_type": "stream",
     "text": [
      "\r",
      " 80%|████████  | 72/90 [02:03<00:30,  1.68s/it]"
     ]
    },
    {
     "name": "stdout",
     "output_type": "stream",
     "text": [
      "Training accuracy on selected features: 1.000\n",
      "Testing accuracy on selected features: 0.013\n",
      "F1 Score: 0.02567901234567901\n",
      "Distribution:  0.5\n",
      "Failed to gain:  -0.4865\n",
      "********************\n",
      "********************\n",
      "73 2 0\n"
     ]
    },
    {
     "name": "stderr",
     "output_type": "stream",
     "text": [
      "\r",
      " 81%|████████  | 73/90 [02:05<00:31,  1.85s/it]"
     ]
    },
    {
     "name": "stdout",
     "output_type": "stream",
     "text": [
      "Training accuracy on selected features: 1.000\n",
      "Testing accuracy on selected features: 0.379\n",
      "F1 Score: 0.3562920766442258\n",
      "Distribution:  0.5\n",
      "Failed to gain:  -0.1215\n",
      "********************\n",
      "********************\n",
      "74 0 1\n"
     ]
    },
    {
     "name": "stderr",
     "output_type": "stream",
     "text": [
      "\r",
      " 82%|████████▏ | 74/90 [02:07<00:28,  1.77s/it]"
     ]
    },
    {
     "name": "stdout",
     "output_type": "stream",
     "text": [
      "Training accuracy on selected features: 1.000\n",
      "Testing accuracy on selected features: 0.513\n",
      "F1 Score: 0.6659807956104252\n",
      "Distribution:  0.5\n",
      "Failed to gain:  0.013000000000000012\n",
      "********************\n",
      "********************\n",
      "75 1 2\n"
     ]
    },
    {
     "name": "stderr",
     "output_type": "stream",
     "text": [
      "\r",
      " 83%|████████▎ | 75/90 [02:09<00:25,  1.73s/it]"
     ]
    },
    {
     "name": "stdout",
     "output_type": "stream",
     "text": [
      "Training accuracy on selected features: 1.000\n",
      "Testing accuracy on selected features: 0.402\n",
      "F1 Score: 0.08422664624808576\n",
      "Distribution:  0.5\n",
      "Failed to gain:  -0.09799999999999998\n",
      "********************\n",
      "********************\n",
      "76 2 2\n"
     ]
    },
    {
     "name": "stderr",
     "output_type": "stream",
     "text": [
      "\r",
      " 84%|████████▍ | 76/90 [02:10<00:23,  1.67s/it]"
     ]
    },
    {
     "name": "stdout",
     "output_type": "stream",
     "text": [
      "Training accuracy on selected features: 1.000\n",
      "Testing accuracy on selected features: 0.042\n",
      "F1 Score: 0.07973102785782903\n",
      "Distribution:  0.5\n",
      "Failed to gain:  -0.458\n",
      "********************\n",
      "********************\n",
      "77 0 0\n"
     ]
    },
    {
     "name": "stderr",
     "output_type": "stream",
     "text": [
      "\r",
      " 86%|████████▌ | 77/90 [02:12<00:23,  1.83s/it]"
     ]
    },
    {
     "name": "stdout",
     "output_type": "stream",
     "text": [
      "Training accuracy on selected features: 1.000\n",
      "Testing accuracy on selected features: 0.792\n",
      "F1 Score: 0.8280149191877331\n",
      "Distribution:  0.5\n",
      "Imp features:  Index(['RTOT4', 'HMGCOAtx', 'ACACT1x', 'GLUt2m', 'NADtx', 'r0463', 'r0202',\n",
      "       'sink_arg_L[c]', 'CATp', 'r1428'],\n",
      "      dtype='object')\n",
      "--------------------\n",
      "Gain:  0.2925\n",
      "--------------------\n",
      "********************\n",
      "********************\n",
      "78 1 1\n"
     ]
    },
    {
     "name": "stderr",
     "output_type": "stream",
     "text": [
      "\r",
      " 87%|████████▋ | 78/90 [02:14<00:20,  1.74s/it]"
     ]
    },
    {
     "name": "stdout",
     "output_type": "stream",
     "text": [
      "Training accuracy on selected features: 1.000\n",
      "Testing accuracy on selected features: 0.663\n",
      "F1 Score: 0.7297514033680834\n",
      "Distribution:  0.5\n",
      "Failed to gain:  0.16300000000000003\n",
      "********************\n",
      "********************\n",
      "79 1 1\n"
     ]
    },
    {
     "name": "stderr",
     "output_type": "stream",
     "text": [
      "\r",
      " 88%|████████▊ | 79/90 [02:15<00:18,  1.68s/it]"
     ]
    },
    {
     "name": "stdout",
     "output_type": "stream",
     "text": [
      "Training accuracy on selected features: 1.000\n",
      "Testing accuracy on selected features: 0.602\n",
      "F1 Score: 0.5443110348770726\n",
      "Distribution:  0.5\n",
      "Failed to gain:  0.10150000000000003\n",
      "********************\n",
      "********************\n",
      "80 2 2\n"
     ]
    },
    {
     "name": "stderr",
     "output_type": "stream",
     "text": [
      "\r",
      " 89%|████████▉ | 80/90 [02:17<00:16,  1.65s/it]"
     ]
    },
    {
     "name": "stdout",
     "output_type": "stream",
     "text": [
      "Training accuracy on selected features: 1.000\n",
      "Testing accuracy on selected features: 0.017\n",
      "F1 Score: 0.03151157065484983\n",
      "Distribution:  0.5\n",
      "Failed to gain:  -0.4835\n",
      "********************\n",
      "********************\n",
      "81 0 0\n"
     ]
    },
    {
     "name": "stderr",
     "output_type": "stream",
     "text": [
      "\r",
      " 90%|█████████ | 81/90 [02:19<00:16,  1.79s/it]"
     ]
    },
    {
     "name": "stdout",
     "output_type": "stream",
     "text": [
      "Training accuracy on selected features: 1.000\n",
      "Testing accuracy on selected features: 0.904\n",
      "F1 Score: 0.9126657521719251\n",
      "Distribution:  0.5\n",
      "Imp features:  Index(['RTOT4', 'CATp', 'sink_arg_L[c]', 'r0202', 'ACACT1x', 'r0463',\n",
      "       'EX_pe_hs[e]', 'HMGCOAtx', 'FAEL183', 'TTDCRNNAt'],\n",
      "      dtype='object')\n",
      "--------------------\n",
      "Gain:  0.40449999999999997\n",
      "--------------------\n",
      "********************\n",
      "********************\n",
      "82 1 0\n"
     ]
    },
    {
     "name": "stderr",
     "output_type": "stream",
     "text": [
      "\r",
      " 91%|█████████ | 82/90 [02:21<00:13,  1.70s/it]"
     ]
    },
    {
     "name": "stdout",
     "output_type": "stream",
     "text": [
      "Training accuracy on selected features: 1.000\n",
      "Testing accuracy on selected features: 0.002\n",
      "F1 Score: 0.0\n",
      "Distribution:  0.5\n",
      "Failed to gain:  -0.4985\n",
      "********************\n",
      "********************\n",
      "83 2 1\n"
     ]
    },
    {
     "name": "stderr",
     "output_type": "stream",
     "text": [
      "\r",
      " 92%|█████████▏| 83/90 [02:22<00:12,  1.74s/it]"
     ]
    },
    {
     "name": "stdout",
     "output_type": "stream",
     "text": [
      "Training accuracy on selected features: 1.000\n",
      "Testing accuracy on selected features: 0.507\n",
      "F1 Score: 0.6597653554175292\n",
      "Distribution:  0.5\n",
      "Failed to gain:  0.007000000000000006\n",
      "********************\n",
      "********************\n",
      "84 0 2\n"
     ]
    },
    {
     "name": "stderr",
     "output_type": "stream",
     "text": [
      "\r",
      " 93%|█████████▎| 84/90 [02:24<00:10,  1.70s/it]"
     ]
    },
    {
     "name": "stdout",
     "output_type": "stream",
     "text": [
      "Training accuracy on selected features: 1.000\n",
      "Testing accuracy on selected features: 0.390\n",
      "F1 Score: 0.560633321338611\n",
      "Distribution:  0.5\n",
      "Failed to gain:  -0.11049999999999999\n",
      "********************\n",
      "********************\n",
      "85 1 2\n"
     ]
    },
    {
     "name": "stderr",
     "output_type": "stream",
     "text": [
      "\r",
      " 94%|█████████▍| 85/90 [02:26<00:08,  1.66s/it]"
     ]
    },
    {
     "name": "stdout",
     "output_type": "stream",
     "text": [
      "Training accuracy on selected features: 1.000\n",
      "Testing accuracy on selected features: 0.483\n",
      "F1 Score: 0.13411567476948869\n",
      "Distribution:  0.5\n",
      "Failed to gain:  -0.016500000000000015\n",
      "********************\n",
      "********************\n",
      "86 2 0\n"
     ]
    },
    {
     "name": "stderr",
     "output_type": "stream",
     "text": [
      "\r",
      " 96%|█████████▌| 86/90 [02:28<00:07,  1.83s/it]"
     ]
    },
    {
     "name": "stdout",
     "output_type": "stream",
     "text": [
      "Training accuracy on selected features: 1.000\n",
      "Testing accuracy on selected features: 0.247\n",
      "F1 Score: 0.20317460317460317\n",
      "Distribution:  0.5\n",
      "Failed to gain:  -0.253\n",
      "********************\n",
      "********************\n",
      "87 0 1\n"
     ]
    },
    {
     "name": "stderr",
     "output_type": "stream",
     "text": [
      "\r",
      " 97%|█████████▋| 87/90 [02:30<00:05,  1.79s/it]"
     ]
    },
    {
     "name": "stdout",
     "output_type": "stream",
     "text": [
      "Training accuracy on selected features: 1.000\n",
      "Testing accuracy on selected features: 0.527\n",
      "F1 Score: 0.6733494642239889\n",
      "Distribution:  0.5\n",
      "Failed to gain:  0.02749999999999997\n",
      "********************\n",
      "********************\n",
      "88 1 0\n"
     ]
    },
    {
     "name": "stderr",
     "output_type": "stream",
     "text": [
      "\r",
      " 98%|█████████▊| 88/90 [02:31<00:03,  1.72s/it]"
     ]
    },
    {
     "name": "stdout",
     "output_type": "stream",
     "text": [
      "Training accuracy on selected features: 1.000\n",
      "Testing accuracy on selected features: 0.011\n",
      "F1 Score: 0.0\n",
      "Distribution:  0.5\n",
      "Failed to gain:  -0.4885\n",
      "********************\n",
      "********************\n",
      "89 2 1\n"
     ]
    },
    {
     "name": "stderr",
     "output_type": "stream",
     "text": [
      "\r",
      " 99%|█████████▉| 89/90 [02:33<00:01,  1.78s/it]"
     ]
    },
    {
     "name": "stdout",
     "output_type": "stream",
     "text": [
      "Training accuracy on selected features: 1.000\n",
      "Testing accuracy on selected features: 0.519\n",
      "F1 Score: 0.6685063815108658\n",
      "Distribution:  0.5\n",
      "Failed to gain:  0.019499999999999962\n",
      "********************\n",
      "********************\n",
      "90 0 2\n"
     ]
    },
    {
     "name": "stderr",
     "output_type": "stream",
     "text": [
      "100%|██████████| 90/90 [02:35<00:00,  1.72s/it]"
     ]
    },
    {
     "name": "stdout",
     "output_type": "stream",
     "text": [
      "Training accuracy on selected features: 1.000\n",
      "Testing accuracy on selected features: 0.359\n",
      "F1 Score: 0.528870908422214\n",
      "Distribution:  0.5\n",
      "Failed to gain:  -0.1405\n",
      "********************\n",
      "********************\n"
     ]
    },
    {
     "name": "stderr",
     "output_type": "stream",
     "text": [
      "\n"
     ]
    }
   ],
   "source": [
    "imp_list = []\n",
    "accuracy_tracker = []\n",
    "f1_tracker = []\n",
    "precision_tracker = []\n",
    "recall_tracker = []\n",
    "\n",
    "val_distribution_tracker = []\n",
    "imp_df = []\n",
    "\n",
    "i = 0\n",
    "x = 0\n",
    "y = 0\n",
    "\n",
    "# Run model 90 times\n",
    "for _ in tqdm(range(90)):\n",
    "    \n",
    "    # Select the test sample\n",
    "    if (i%3 == 0):\n",
    "        x = random.randint(0, 2)\n",
    "        y = random.randint(0, 2)\n",
    "        i += 1\n",
    "        print(i,x,y)\n",
    "    else:\n",
    "        x = (x+1)%3\n",
    "        y = (y+1)%3\n",
    "        i += 1\n",
    "        print(i,x,y)\n",
    "    \n",
    "    test_sample = [id_map['EED'][x], id_map['Healthy'][y]]\n",
    "    train_sample = list(set(list(df_eed['sample_number'].unique()) +\\\n",
    "                            list(df_healthy['sample_number'].unique())) - set(test_sample))\n",
    "    \n",
    "    X_train, y_train = df.loc[df['sample_number'].isin(train_sample), list(set(df.columns)-set(['sample_number', 'label']))].reset_index(drop=True),\\\n",
    "    df.loc[df['sample_number'].isin(train_sample), ['label']].reset_index(drop=True)\n",
    "\n",
    "    X_test, y_test = df.loc[df['sample_number'].isin(test_sample), list(set(df.columns)-set(['sample_number', 'label']))].reset_index(drop=True),\\\n",
    "    df.loc[df['sample_number'].isin(test_sample), ['label']].reset_index(drop=True)\n",
    "\n",
    "    y_train = y_train['label']\n",
    "    y_test = y_test['label']\n",
    "    \n",
    "    # Train random forest\n",
    "    rf = RandomForestClassifier(n_estimators=100)\n",
    "    rf.fit(X_train, y_train)\n",
    "\n",
    "    y_train_pred = rf.predict(X_train)\n",
    "    print('Training accuracy on selected features: %.3f' % accuracy_score(y_train, y_train_pred))    \n",
    "\n",
    "    y_test_pred = rf.predict(X_test)    \n",
    "    print('Testing accuracy on selected features: %.3f' % accuracy_score(y_test, y_test_pred))    \n",
    "    print('F1 Score: {}'.format(f1_score(y_test, y_test_pred)))\n",
    "    print('Distribution: ', max(y_test.mean(), (1-y_test.mean())))\n",
    "    \n",
    "    selected_cols = X_train.columns[np.argsort(rf.feature_importances_)[::-1]]\n",
    "    \n",
    "    val_distribution_tracker.append(y_test.mean())\n",
    "    f1_tracker.append(f1_score(y_test, y_test_pred))\n",
    "    precision_tracker.append(precision_score(y_test, y_test_pred))    \n",
    "    recall_tracker.append(recall_score(y_test, y_test_pred))        \n",
    "    accuracy_tracker.append(accuracy_score(y_test, y_test_pred))\n",
    "    gain = accuracy_score(y_test, y_test_pred)-max(y_test.mean(), (1-y_test.mean()))\n",
    "    \n",
    "    if gain>0.2:\n",
    "        imp_list += list(selected_cols[:50])\n",
    "        imp_df.append(pd.DataFrame({'reactions': selected_cols[:50], 'rank': range(1, 51)}))\n",
    "        print('Imp features: ', selected_cols[:10])\n",
    "        print('-'*20)\n",
    "        print('Gain: ', gain)\n",
    "        print('-'*20)\n",
    "    else:\n",
    "        print('Failed to gain: ', gain)\n",
    "        \n",
    "    print('*'*20)\n",
    "    print('*'*20)"
   ]
  },
  {
   "cell_type": "code",
   "execution_count": 10,
   "metadata": {},
   "outputs": [
    {
     "name": "stdout",
     "output_type": "stream",
     "text": [
      "Average Accuracy score: 0.43077777777777776\n",
      "Average F1 score: 0.46211422351263665\n",
      "Average validation distribution: 0.5\n",
      "Average precisions score: 0.4214492050346831\n",
      "Average recall score: 0.5605666666666668\n"
     ]
    }
   ],
   "source": [
    "print('Average Accuracy score: {}'.format(np.mean(accuracy_tracker)))\n",
    "print('Average F1 score: {}'.format(np.mean(f1_tracker)))\n",
    "print('Average validation distribution: {}'.format(np.mean(val_distribution_tracker)))\n",
    "print('Average precisions score: {}'.format(np.mean(precision_tracker)))\n",
    "print('Average recall score: {}'.format(np.mean(recall_tracker)))"
   ]
  },
  {
   "cell_type": "code",
   "execution_count": 11,
   "metadata": {},
   "outputs": [
    {
     "data": {
      "text/html": [
       "<div>\n",
       "<style scoped>\n",
       "    .dataframe tbody tr th:only-of-type {\n",
       "        vertical-align: middle;\n",
       "    }\n",
       "\n",
       "    .dataframe tbody tr th {\n",
       "        vertical-align: top;\n",
       "    }\n",
       "\n",
       "    .dataframe thead th {\n",
       "        text-align: right;\n",
       "    }\n",
       "</style>\n",
       "<table border=\"1\" class=\"dataframe\">\n",
       "  <thead>\n",
       "    <tr style=\"text-align: right;\">\n",
       "      <th></th>\n",
       "      <th>reactions</th>\n",
       "      <th>rank</th>\n",
       "    </tr>\n",
       "  </thead>\n",
       "  <tbody>\n",
       "    <tr>\n",
       "      <th>0</th>\n",
       "      <td>HMGCOAtx</td>\n",
       "      <td>5.850000</td>\n",
       "    </tr>\n",
       "    <tr>\n",
       "      <th>1</th>\n",
       "      <td>r0463</td>\n",
       "      <td>6.809524</td>\n",
       "    </tr>\n",
       "    <tr>\n",
       "      <th>2</th>\n",
       "      <td>RTOT4</td>\n",
       "      <td>7.285714</td>\n",
       "    </tr>\n",
       "    <tr>\n",
       "      <th>3</th>\n",
       "      <td>ACACT1x</td>\n",
       "      <td>8.047619</td>\n",
       "    </tr>\n",
       "    <tr>\n",
       "      <th>4</th>\n",
       "      <td>GLYLYSCYSr</td>\n",
       "      <td>8.166667</td>\n",
       "    </tr>\n",
       "    <tr>\n",
       "      <th>5</th>\n",
       "      <td>GLYLYSCYSt</td>\n",
       "      <td>8.500000</td>\n",
       "    </tr>\n",
       "    <tr>\n",
       "      <th>6</th>\n",
       "      <td>sink_tyr_L[c]</td>\n",
       "      <td>12.650000</td>\n",
       "    </tr>\n",
       "    <tr>\n",
       "      <th>7</th>\n",
       "      <td>NADtx</td>\n",
       "      <td>13.095238</td>\n",
       "    </tr>\n",
       "    <tr>\n",
       "      <th>8</th>\n",
       "      <td>NADtpu</td>\n",
       "      <td>13.142857</td>\n",
       "    </tr>\n",
       "    <tr>\n",
       "      <th>9</th>\n",
       "      <td>CATp</td>\n",
       "      <td>13.285714</td>\n",
       "    </tr>\n",
       "    <tr>\n",
       "      <th>10</th>\n",
       "      <td>sink_arg_L[c]</td>\n",
       "      <td>13.611111</td>\n",
       "    </tr>\n",
       "    <tr>\n",
       "      <th>11</th>\n",
       "      <td>r0202</td>\n",
       "      <td>15.050000</td>\n",
       "    </tr>\n",
       "    <tr>\n",
       "      <th>12</th>\n",
       "      <td>GLUt2m</td>\n",
       "      <td>15.352941</td>\n",
       "    </tr>\n",
       "    <tr>\n",
       "      <th>13</th>\n",
       "      <td>r1428</td>\n",
       "      <td>15.904762</td>\n",
       "    </tr>\n",
       "    <tr>\n",
       "      <th>14</th>\n",
       "      <td>HMR_2368</td>\n",
       "      <td>16.000000</td>\n",
       "    </tr>\n",
       "    <tr>\n",
       "      <th>15</th>\n",
       "      <td>ITPtn</td>\n",
       "      <td>16.000000</td>\n",
       "    </tr>\n",
       "    <tr>\n",
       "      <th>16</th>\n",
       "      <td>TTDCRNNAt</td>\n",
       "      <td>16.230769</td>\n",
       "    </tr>\n",
       "    <tr>\n",
       "      <th>17</th>\n",
       "      <td>HMR_0393</td>\n",
       "      <td>17.400000</td>\n",
       "    </tr>\n",
       "    <tr>\n",
       "      <th>18</th>\n",
       "      <td>EX_pcrn[e]</td>\n",
       "      <td>17.684211</td>\n",
       "    </tr>\n",
       "    <tr>\n",
       "      <th>19</th>\n",
       "      <td>HMR_0327</td>\n",
       "      <td>17.850000</td>\n",
       "    </tr>\n",
       "  </tbody>\n",
       "</table>\n",
       "</div>"
      ],
      "text/plain": [
       "        reactions       rank\n",
       "0        HMGCOAtx   5.850000\n",
       "1           r0463   6.809524\n",
       "2           RTOT4   7.285714\n",
       "3         ACACT1x   8.047619\n",
       "4      GLYLYSCYSr   8.166667\n",
       "5      GLYLYSCYSt   8.500000\n",
       "6   sink_tyr_L[c]  12.650000\n",
       "7           NADtx  13.095238\n",
       "8          NADtpu  13.142857\n",
       "9            CATp  13.285714\n",
       "10  sink_arg_L[c]  13.611111\n",
       "11          r0202  15.050000\n",
       "12         GLUt2m  15.352941\n",
       "13          r1428  15.904762\n",
       "14       HMR_2368  16.000000\n",
       "15          ITPtn  16.000000\n",
       "16      TTDCRNNAt  16.230769\n",
       "17       HMR_0393  17.400000\n",
       "18     EX_pcrn[e]  17.684211\n",
       "19       HMR_0327  17.850000"
      ]
     },
     "execution_count": 11,
     "metadata": {},
     "output_type": "execute_result"
    }
   ],
   "source": [
    "# Top important reactions\n",
    "average_rank = pd.DataFrame({'rank': pd.concat(imp_df).groupby('reactions')['rank'].mean()}).reset_index()\n",
    "average_rank = average_rank.sort_values(by='rank').head(20).reset_index(drop=True)\n",
    "average_rank.head(20)"
   ]
  },
  {
   "cell_type": "code",
   "execution_count": 12,
   "metadata": {},
   "outputs": [
    {
     "data": {
      "text/plain": [
       "RTOT4            21\n",
       "ACACT1x          21\n",
       "r1428            21\n",
       "C140CPT1         21\n",
       "NADtpu           21\n",
       "NADtx            21\n",
       "CATp             21\n",
       "r0463            21\n",
       "r0202            20\n",
       "HMR_0393         20\n",
       "HMR_0327         20\n",
       "HMGCOAtx         20\n",
       "sink_tyr_L[c]    20\n",
       "EX_pcrn[e]       19\n",
       "sink_arg_L[c]    18\n",
       "GLUt2m           17\n",
       "RE0578C          16\n",
       "EX_ttdcrn[e]     15\n",
       "r0181            14\n",
       "TTDCRNNAt        13\n",
       "Name: 0, dtype: int64"
      ]
     },
     "execution_count": 12,
     "metadata": {},
     "output_type": "execute_result"
    }
   ],
   "source": [
    "pd.DataFrame(imp_list)[0].value_counts().head(20)"
   ]
  },
  {
   "cell_type": "code",
   "execution_count": null,
   "metadata": {},
   "outputs": [],
   "source": []
  }
 ],
 "metadata": {
  "kernelspec": {
   "display_name": "my-torch",
   "language": "python",
   "name": "my-torch"
  },
  "language_info": {
   "codemirror_mode": {
    "name": "ipython",
    "version": 3
   },
   "file_extension": ".py",
   "mimetype": "text/x-python",
   "name": "python",
   "nbconvert_exporter": "python",
   "pygments_lexer": "ipython3",
   "version": "3.8.8"
  }
 },
 "nbformat": 4,
 "nbformat_minor": 4
}
